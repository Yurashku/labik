{
 "cells": [
  {
   "cell_type": "code",
   "execution_count": 1,
   "metadata": {},
   "outputs": [
    {
     "ename": "SystemExit",
     "evalue": "0",
     "output_type": "error",
     "traceback": [
      "An exception has occurred, use %tb to see the full traceback.\n",
      "\u001b[0;31mSystemExit\u001b[0m\u001b[0;31m:\u001b[0m 0\n"
     ]
    },
    {
     "name": "stderr",
     "output_type": "stream",
     "text": [
      "/home/osboxes/.conda/envs/sphere-py37/lib/python3.7/site-packages/IPython/core/interactiveshell.py:3334: UserWarning: To exit: use 'exit', 'quit', or Ctrl-D.\n",
      "  warn(\"To exit: use 'exit', 'quit', or Ctrl-D.\", stacklevel=1)\n"
     ]
    }
   ],
   "source": [
    "import sys\n",
    "from PyQt5.QtCore import *\n",
    "from PyQt5.QtGui import *\n",
    "from PyQt5.QtWidgets import *\n",
    "\n",
    "\n",
    "class Drawer(QWidget):\n",
    "    def __init__(self, parent=None):\n",
    "        QWidget.__init__(self, parent)\n",
    "        self.setAttribute(Qt.WA_StaticContents)\n",
    "        h = 400\n",
    "        w = 400\n",
    "        self.myPenWidth = 10\n",
    "        self.myPenColor = Qt.blue\n",
    "        self.image = QImage(w, h, QImage.Format_RGB32)\n",
    "        self.path = QPainterPath()\n",
    "        self.clearImage()\n",
    "\n",
    "    def setPenColor(self, newColor):\n",
    "        self.myPenColor = newColor\n",
    "\n",
    "    def setPenWidth(self, newWidth):\n",
    "        self.myPenWidth = newWidth\n",
    "\n",
    "    def clearImage(self):\n",
    "        self.path = QPainterPath()\n",
    "        self.image.fill(Qt.white)  \n",
    "        self.update()\n",
    "\n",
    "    def saveImage(self, fileName, fileFormat):\n",
    "        self.image.save(fileName, fileFormat)\n",
    "\n",
    "    def paintEvent(self, event):\n",
    "        painter = QPainter(self)\n",
    "        painter.drawImage(event.rect(), self.image, self.rect())\n",
    "        \n",
    "        painter.setBrush(QColor(1,0,0))\n",
    "        painter.drawRect(10, 15, 120, 60)\n",
    "        painter.drawPath(self.path)\n",
    "        #self.saveImage(\"image.png\", \"PNG\")\n",
    "        painter.end()\n",
    "        #painter.drawImage(event.rect(), self.image, self.rect())\n",
    "        self.saveImage(\"image.png\", \"PNG\")\n",
    "        \n",
    "\n",
    "    def sizeHint(self):\n",
    "        return QSize(300, 300)\n",
    "\n",
    "\n",
    "if __name__ == '__main__':\n",
    "    app = QApplication(sys.argv)\n",
    "    w = QWidget()\n",
    "   \n",
    "    drawer   = Drawer()\n",
    "\n",
    "    w.setLayout(QVBoxLayout())\n",
    "\n",
    "    w.layout().addWidget(drawer)\n",
    "\n",
    "    #drawer.saveImage(\"image.png\", \"PNG\")\n",
    "    \n",
    "\n",
    "    w.show()\n",
    "    sys.exit(app.exec_())"
   ]
  },
  {
   "cell_type": "code",
   "execution_count": null,
   "metadata": {},
   "outputs": [],
   "source": []
  },
  {
   "cell_type": "code",
   "execution_count": null,
   "metadata": {},
   "outputs": [],
   "source": []
  },
  {
   "cell_type": "code",
   "execution_count": null,
   "metadata": {},
   "outputs": [],
   "source": []
  },
  {
   "cell_type": "code",
   "execution_count": 1,
   "metadata": {},
   "outputs": [
    {
     "data": {
      "text/plain": [
       "True"
      ]
     },
     "execution_count": 1,
     "metadata": {},
     "output_type": "execute_result"
    }
   ],
   "source": [
    "\n",
    "\n",
    "image = QImage(400, 400, QImage.Format_RGB32)\n",
    "\n",
    "painter = QPainter(image)\n",
    "painter.setBrush(Qt.white)\n",
    "painter.setPen(Qt.white)\n",
    "painter.drawRect(0, 0, 400, 400)\n",
    "\n",
    "painter.setBrush(QColor(255, 80, 0, 160))\n",
    "painter.drawRect(130, 15, 90, 60)\n",
    "painter.end()\n",
    "\n",
    "image.save(\"image1.png\", \"PNG\")"
   ]
  },
  {
   "cell_type": "code",
   "execution_count": 1,
   "metadata": {
    "scrolled": true
   },
   "outputs": [
    {
     "name": "stdout",
     "output_type": "stream",
     "text": [
      "The original image size is 225 wide x 225 high\n",
      "The resized image size is 100 wide x 100 high\n"
     ]
    }
   ],
   "source": [
    "from PIL import Image\n",
    " \n",
    "def resize_image(input_image_path,\n",
    "                 output_image_path,\n",
    "                 size):\n",
    "    original_image = Image.open(input_image_path)\n",
    "    width, height = original_image.size\n",
    "    print('The original image size is {wide} wide x {height} '\n",
    "          'high'.format(wide=width, height=height))\n",
    " \n",
    "    resized_image = original_image.resize(size)\n",
    "    width, height = resized_image.size\n",
    "    print('The resized image size is {wide} wide x {height} '\n",
    "          'high'.format(wide=width, height=height))\n",
    "    resized_image.show()\n",
    "    resized_image.save(output_image_path)\n",
    "if __name__ == '__main__':\n",
    "    resize_image(input_image_path='unknown.png',\n",
    "                 output_image_path='unknown_small.png',\n",
    "                 size=(100, 100))"
   ]
  },
  {
   "cell_type": "code",
   "execution_count": 10,
   "metadata": {},
   "outputs": [
    {
     "name": "stdout",
     "output_type": "stream",
     "text": [
      "Collecting opencv-python\n",
      "\u001b[?25l  Downloading https://files.pythonhosted.org/packages/34/a3/403dbaef909fee9f9f6a8eaff51d44085a14e5bb1a1ff7257117d744986a/opencv_python-4.2.0.32-cp37-cp37m-manylinux1_x86_64.whl (28.2MB)\n",
      "\u001b[K     |████████████████████████████████| 28.2MB 88kB/s  eta 0:00:01    |██                              | 1.7MB 1.0MB/s eta 0:00:27     |██▉                             | 2.5MB 2.9MB/s eta 0:00:09     |███                             | 2.6MB 2.9MB/s eta 0:00:09     |███▎                            | 2.9MB 2.9MB/s eta 0:00:09     |███▋                            | 3.2MB 2.9MB/s eta 0:00:09     |████▍                           | 3.9MB 2.9MB/s eta 0:00:09     |████▌                           | 4.0MB 2.9MB/s eta 0:00:09     |█████▉                          | 5.2MB 3.9MB/s eta 0:00:06     |███████▏                        | 6.3MB 3.9MB/s eta 0:00:06     |████████▎                       | 7.3MB 3.9MB/s eta 0:00:06     |████████▉                       | 7.8MB 3.9MB/s eta 0:00:06     |█████████████████▋              | 15.5MB 2.1MB/s eta 0:00:07     |██████████████████▌             | 16.3MB 2.1MB/s eta 0:00:06     |███████████████████             | 16.7MB 2.1MB/s eta 0:00:06     |███████████████████▋            | 17.2MB 2.1MB/s eta 0:00:06     |███████████████████▊            | 17.3MB 2.1MB/s eta 0:00:06     |█████████████████████▎          | 18.7MB 4.8MB/s eta 0:00:02     |██████████████████████▌         | 19.8MB 4.8MB/s eta 0:00:02     |██████████████████████▊         | 20.0MB 4.8MB/s eta 0:00:02     |██████████████████████████▏     | 23.0MB 2.6MB/s eta 0:00:02     |███████████████████████████▉    | 24.5MB 2.6MB/s eta 0:00:02     |███████████████████████████████▌| 27.7MB 4.1MB/s eta 0:00:01\n",
      "\u001b[?25hRequirement already satisfied: numpy>=1.14.5 in /home/osboxes/.conda/envs/sphere-py37/lib/python3.7/site-packages (from opencv-python) (1.17.2)\n",
      "Installing collected packages: opencv-python\n",
      "Successfully installed opencv-python-4.2.0.32\n",
      "\u001b[33mWARNING: You are using pip version 19.3.1; however, version 20.0.2 is available.\n",
      "You should consider upgrading via the 'pip install --upgrade pip' command.\u001b[0m\n"
     ]
    }
   ],
   "source": [
    "!pip install opencv-python"
   ]
  },
  {
   "cell_type": "code",
   "execution_count": 9,
   "metadata": {},
   "outputs": [
    {
     "ename": "ModuleNotFoundError",
     "evalue": "No module named 'cv2'",
     "output_type": "error",
     "traceback": [
      "\u001b[0;31m---------------------------------------------------------------------------\u001b[0m",
      "\u001b[0;31mModuleNotFoundError\u001b[0m                       Traceback (most recent call last)",
      "\u001b[0;32m<ipython-input-9-a0b0d8967a63>\u001b[0m in \u001b[0;36m<module>\u001b[0;34m\u001b[0m\n\u001b[1;32m      1\u001b[0m \u001b[0;32mimport\u001b[0m \u001b[0mnumpy\u001b[0m \u001b[0;32mas\u001b[0m \u001b[0mnp\u001b[0m\u001b[0;34m\u001b[0m\u001b[0;34m\u001b[0m\u001b[0m\n\u001b[0;32m----> 2\u001b[0;31m \u001b[0;32mimport\u001b[0m \u001b[0mcv2\u001b[0m\u001b[0;34m\u001b[0m\u001b[0;34m\u001b[0m\u001b[0m\n\u001b[0m\u001b[1;32m      3\u001b[0m \u001b[0;34m\u001b[0m\u001b[0m\n\u001b[1;32m      4\u001b[0m \u001b[0;31m# создадим белое изображение\u001b[0m\u001b[0;34m\u001b[0m\u001b[0;34m\u001b[0m\u001b[0;34m\u001b[0m\u001b[0m\n\u001b[1;32m      5\u001b[0m \u001b[0;31m# или можно считать изобрежние с помощью cv2.imread(\"path_to_file\")\u001b[0m\u001b[0;34m\u001b[0m\u001b[0;34m\u001b[0m\u001b[0;34m\u001b[0m\u001b[0m\n",
      "\u001b[0;31mModuleNotFoundError\u001b[0m: No module named 'cv2'"
     ]
    }
   ],
   "source": [
    "import numpy as np\n",
    "import cv2\n",
    " \n",
    "# создадим белое изображение\n",
    "# или можно считать изобрежние с помощью cv2.imread(\"path_to_file\")\n",
    "img = np.zeros((256, 512, 3), np.uint8)\n",
    "img[:, :, :] = 255\n",
    " \n",
    "font = cv2.FONT_HERSHEY_COMPLEX\n",
    "# вставка текста красного цвета\n",
    "cv2.putText(img, 'наш произвольный текст', (10, 150), font, 1, color=(0, 0, 255), thickness=2)\n",
    " \n",
    "cv2.imshow('Result', img)\n",
    "cv2.waitKey()"
   ]
  },
  {
   "cell_type": "code",
   "execution_count": 1,
   "metadata": {},
   "outputs": [],
   "source": [
    "import requests\n",
    "import bs4 as bs4"
   ]
  },
  {
   "cell_type": "code",
   "execution_count": 35,
   "metadata": {},
   "outputs": [
    {
     "name": "stdout",
     "output_type": "stream",
     "text": [
      "Кристина Наумова\n"
     ]
    }
   ],
   "source": [
    "request = requests.get(\"https://vk.com/\"+\"kristinnaumova\")\n",
    "bs = bs4.BeautifulSoup(request.text, \"html.parser\")\n",
    "#print(request.text)\n",
    "res=bs.find(\"h2\",class_=\"op_header\")\n",
    "print(res.text)"
   ]
  },
  {
   "cell_type": "code",
   "execution_count": 42,
   "metadata": {},
   "outputs": [
    {
     "ename": "TypeError",
     "evalue": "sum() takes no keyword arguments",
     "output_type": "error",
     "traceback": [
      "\u001b[0;31m---------------------------------------------------------------------------\u001b[0m",
      "\u001b[0;31mTypeError\u001b[0m                                 Traceback (most recent call last)",
      "\u001b[0;32m<ipython-input-42-dde987a175f6>\u001b[0m in \u001b[0;36m<module>\u001b[0;34m\u001b[0m\n\u001b[1;32m      1\u001b[0m \u001b[0ma\u001b[0m\u001b[0;34m=\u001b[0m\u001b[0;34m\"abbs.assadas.easc\"\u001b[0m\u001b[0;34m\u001b[0m\u001b[0;34m\u001b[0m\u001b[0m\n\u001b[0;32m----> 2\u001b[0;31m \u001b[0msum\u001b[0m\u001b[0;34m(\u001b[0m\u001b[0ma\u001b[0m\u001b[0;34m.\u001b[0m\u001b[0msplit\u001b[0m\u001b[0;34m(\u001b[0m\u001b[0;34m'.'\u001b[0m\u001b[0;34m)\u001b[0m\u001b[0;34m[\u001b[0m\u001b[0;34m:\u001b[0m\u001b[0;34m-\u001b[0m\u001b[0;36m1\u001b[0m\u001b[0;34m:\u001b[0m\u001b[0;34m]\u001b[0m\u001b[0;34m,\u001b[0m\u001b[0mstart\u001b[0m\u001b[0;34m=\u001b[0m\u001b[0;34m\" \"\u001b[0m\u001b[0;34m)\u001b[0m\u001b[0;34m\u001b[0m\u001b[0;34m\u001b[0m\u001b[0m\n\u001b[0m",
      "\u001b[0;31mTypeError\u001b[0m: sum() takes no keyword arguments"
     ]
    }
   ],
   "source": [
    "a=\"abbs.assadas.easc\"\n",
    "sum(a.split('.')[:-1:],start=\" \")"
   ]
  },
  {
   "cell_type": "code",
   "execution_count": 44,
   "metadata": {},
   "outputs": [
    {
     "data": {
      "text/plain": [
       "5"
      ]
     },
     "execution_count": 44,
     "metadata": {},
     "output_type": "execute_result"
    }
   ],
   "source": [
    "16//3"
   ]
  },
  {
   "cell_type": "code",
   "execution_count": 6,
   "metadata": {},
   "outputs": [],
   "source": [
    "import vk_api\n",
    "from vk_api.keyboard import VkKeyboard, VkKeyboardColor\n",
    "from vk_api.utils import get_random_id\n",
    "\n",
    "\n",
    "def main():\n",
    "    \"\"\" Пример создания клавиатуры для отправки ботом \"\"\"\n",
    "\n",
    "    vk_session = vk_api.VkApi(token='5e687395dff870a6f6c9b95bc6e50c9651c98367439c4ecaffdf16fc53e7e57b0bd0bb276b335d5b88ade')\n",
    "    vk = vk_session.get_api()\n",
    "\n",
    "    keyboard = VkKeyboard(one_time=True)\n",
    "\n",
    "    keyboard.add_button('Белая кнопка', color=VkKeyboardColor.DEFAULT)\n",
    "    keyboard.add_button('Зелёная кнопка', color=VkKeyboardColor.POSITIVE)\n",
    "\n",
    "    keyboard.add_line()  # Переход на вторую строку\n",
    "    keyboard.add_location_button()\n",
    "    \n",
    "\n",
    "    \n",
    "    keyboard.add_line()\n",
    "    keyboard.add_vkapps_button(app_id=6979558, \n",
    "                               owner_id=-181108510, \n",
    "                               label=\"Отправить клавиатуру\",\n",
    "                               hash=\"sendKeyboard\")\n",
    "                               \n",
    "\n",
    "    vk.messages.send(\n",
    "        peer_id=311078729,\n",
    "        random_id=get_random_id(),\n",
    "        keyboard=keyboard.get_keyboard(),\n",
    "        message='Пример клавиатуры'\n",
    "    )\n",
    "\n",
    "\n",
    "if __name__ == '__main__':\n",
    "    main()"
   ]
  },
  {
   "cell_type": "code",
   "execution_count": 7,
   "metadata": {},
   "outputs": [
    {
     "name": "stdout",
     "output_type": "stream",
     "text": [
      "tt\n",
      "pp\n",
      "tt\n",
      "pp\n",
      "tt\n",
      "pp\n",
      "tt\n",
      "pp\n",
      "tt\n",
      "pp\n"
     ]
    }
   ],
   "source": [
    "for i in range(10):\n",
    "    if i<10:\n",
    "        if i%2==0:\n",
    "            print(\"tt\")\n",
    "        else:\n",
    "            print(\"pp\")"
   ]
  },
  {
   "cell_type": "code",
   "execution_count": 8,
   "metadata": {},
   "outputs": [],
   "source": [
    "class p:\n",
    "    def __init__(self,x,y):\n",
    "        self.x=x\n",
    "        self.y=y\n",
    "    def delete(self):\n",
    "        del self"
   ]
  },
  {
   "cell_type": "code",
   "execution_count": 13,
   "metadata": {},
   "outputs": [],
   "source": [
    "l=[]"
   ]
  },
  {
   "cell_type": "code",
   "execution_count": 14,
   "metadata": {},
   "outputs": [
    {
     "name": "stdout",
     "output_type": "stream",
     "text": [
      "[<__main__.p object at 0x7fb963b4db10>, <__main__.p object at 0x7fb963b4db90>, <__main__.p object at 0x7fb963b4db50>, <__main__.p object at 0x7fb963b4dbd0>]\n"
     ]
    }
   ],
   "source": [
    "for i in range(2):\n",
    "    for j in range(2):\n",
    "        l.append(p(i,j))\n",
    "print(l)"
   ]
  },
  {
   "cell_type": "code",
   "execution_count": 15,
   "metadata": {},
   "outputs": [
    {
     "data": {
      "text/plain": [
       "<bound method p.delete of <__main__.p object at 0x7fb963b4db10>>"
      ]
     },
     "execution_count": 15,
     "metadata": {},
     "output_type": "execute_result"
    }
   ],
   "source": [
    "l[0].delete"
   ]
  },
  {
   "cell_type": "code",
   "execution_count": 16,
   "metadata": {},
   "outputs": [
    {
     "data": {
      "text/plain": [
       "[<__main__.p at 0x7fb963b4db10>,\n",
       " <__main__.p at 0x7fb963b4db90>,\n",
       " <__main__.p at 0x7fb963b4db50>,\n",
       " <__main__.p at 0x7fb963b4dbd0>]"
      ]
     },
     "execution_count": 16,
     "metadata": {},
     "output_type": "execute_result"
    }
   ],
   "source": [
    "l"
   ]
  },
  {
   "cell_type": "code",
   "execution_count": 17,
   "metadata": {},
   "outputs": [],
   "source": [
    "del l[0]"
   ]
  },
  {
   "cell_type": "code",
   "execution_count": 18,
   "metadata": {},
   "outputs": [
    {
     "data": {
      "text/plain": [
       "[<__main__.p at 0x7fb963b4db90>,\n",
       " <__main__.p at 0x7fb963b4db50>,\n",
       " <__main__.p at 0x7fb963b4dbd0>]"
      ]
     },
     "execution_count": 18,
     "metadata": {},
     "output_type": "execute_result"
    }
   ],
   "source": [
    "l"
   ]
  },
  {
   "cell_type": "code",
   "execution_count": 19,
   "metadata": {},
   "outputs": [
    {
     "ename": "TypeError",
     "evalue": "fun() takes 1 positional argument but 2 were given",
     "output_type": "error",
     "traceback": [
      "\u001b[0;31m---------------------------------------------------------------------------\u001b[0m",
      "\u001b[0;31mTypeError\u001b[0m                                 Traceback (most recent call last)",
      "\u001b[0;32m<ipython-input-19-df4c621f16cd>\u001b[0m in \u001b[0;36m<module>\u001b[0;34m\u001b[0m\n\u001b[1;32m      3\u001b[0m \u001b[0;32mdef\u001b[0m \u001b[0mfun\u001b[0m\u001b[0;34m(\u001b[0m\u001b[0ma\u001b[0m\u001b[0;34m)\u001b[0m\u001b[0;34m:\u001b[0m\u001b[0;34m\u001b[0m\u001b[0;34m\u001b[0m\u001b[0m\n\u001b[1;32m      4\u001b[0m     \u001b[0mprint\u001b[0m\u001b[0;34m(\u001b[0m\u001b[0ma\u001b[0m\u001b[0;34m)\u001b[0m\u001b[0;34m\u001b[0m\u001b[0;34m\u001b[0m\u001b[0m\n\u001b[0;32m----> 5\u001b[0;31m \u001b[0mfun\u001b[0m\u001b[0;34m(\u001b[0m\u001b[0;36m1\u001b[0m\u001b[0;34m,\u001b[0m\u001b[0;36m2\u001b[0m\u001b[0;34m)\u001b[0m\u001b[0;34m\u001b[0m\u001b[0;34m\u001b[0m\u001b[0m\n\u001b[0m\u001b[1;32m      6\u001b[0m \u001b[0mfun\u001b[0m\u001b[0;34m(\u001b[0m\u001b[0;36m1\u001b[0m\u001b[0;34m)\u001b[0m\u001b[0;34m\u001b[0m\u001b[0;34m\u001b[0m\u001b[0m\n",
      "\u001b[0;31mTypeError\u001b[0m: fun() takes 1 positional argument but 2 were given"
     ]
    }
   ],
   "source": []
  },
  {
   "cell_type": "code",
   "execution_count": 4,
   "metadata": {},
   "outputs": [],
   "source": [
    "import pandas as pd"
   ]
  },
  {
   "cell_type": "code",
   "execution_count": 14,
   "metadata": {},
   "outputs": [],
   "source": [
    "class Room:\n",
    "    def __init__(self,x,y):\n",
    "        self.id=x\n",
    "        self.users=[y]\n",
    "\n",
    "my_room=Room(1,None)"
   ]
  },
  {
   "cell_type": "code",
   "execution_count": 16,
   "metadata": {},
   "outputs": [
    {
     "name": "stdout",
     "output_type": "stream",
     "text": [
      "    room_id  winner_id\n",
      "0       1.0       kris\n",
      "1       1.0       kris\n",
      "2       1.0        NaN\n",
      "3  665063.0  311078729\n",
      "4       1.0        NaN\n"
     ]
    }
   ],
   "source": [
    "games=pd.read_csv(\"games.csv\")\n",
    "it_game={\"room_id\":my_room.id, \"winner_id\":my_room.users[0]}\n",
    "games=games.append(it_game,ignore_index=True)\n",
    "with open(\"games.csv\",mode='w',encoding=\"utf-8\") as file:\n",
    "    games.to_csv(file,index=False)\n",
    "print(games)"
   ]
  },
  {
   "cell_type": "code",
   "execution_count": 17,
   "metadata": {},
   "outputs": [
    {
     "data": {
      "text/plain": [
       "'07-04-2020 00:59'"
      ]
     },
     "execution_count": 17,
     "metadata": {},
     "output_type": "execute_result"
    }
   ],
   "source": [
    "from datetime import datetime\n",
    "datetime.now().strftime(\"%d-%m-%Y %H:%M\")"
   ]
  },
  {
   "cell_type": "code",
   "execution_count": 34,
   "metadata": {},
   "outputs": [
    {
     "data": {
      "text/plain": [
       "RangeIndex(start=0, stop=1, step=1)"
      ]
     },
     "execution_count": 34,
     "metadata": {},
     "output_type": "execute_result"
    }
   ],
   "source": [
    "\n",
    "players=pd.read_csv(\"bases/players.csv\")\n",
    "one_row=players[players[\"user_id\"]==100]\n",
    "#players.loc[100,\"last_view\"]=\"today\"\n"
   ]
  },
  {
   "cell_type": "code",
   "execution_count": 36,
   "metadata": {},
   "outputs": [
    {
     "data": {
      "text/html": [
       "<div>\n",
       "<style scoped>\n",
       "    .dataframe tbody tr th:only-of-type {\n",
       "        vertical-align: middle;\n",
       "    }\n",
       "\n",
       "    .dataframe tbody tr th {\n",
       "        vertical-align: top;\n",
       "    }\n",
       "\n",
       "    .dataframe thead th {\n",
       "        text-align: right;\n",
       "    }\n",
       "</style>\n",
       "<table border=\"1\" class=\"dataframe\">\n",
       "  <thead>\n",
       "    <tr style=\"text-align: right;\">\n",
       "      <th></th>\n",
       "      <th>user_id</th>\n",
       "      <th>user_name</th>\n",
       "      <th>firs_view</th>\n",
       "      <th>last_view</th>\n",
       "      <th>raiting</th>\n",
       "    </tr>\n",
       "  </thead>\n",
       "  <tbody>\n",
       "    <tr>\n",
       "      <td>0</td>\n",
       "      <td>100</td>\n",
       "      <td>Covmax</td>\n",
       "      <td>NaN</td>\n",
       "      <td>today</td>\n",
       "      <td>NaN</td>\n",
       "    </tr>\n",
       "  </tbody>\n",
       "</table>\n",
       "</div>"
      ],
      "text/plain": [
       "   user_id user_name  firs_view last_view  raiting\n",
       "0      100    Covmax        NaN     today      NaN"
      ]
     },
     "execution_count": 36,
     "metadata": {},
     "output_type": "execute_result"
    }
   ],
   "source": [
    "one_row[\"last_view\"]=\"today\"\n",
    "one_row"
   ]
  },
  {
   "cell_type": "code",
   "execution_count": 38,
   "metadata": {},
   "outputs": [
    {
     "data": {
      "text/html": [
       "<div>\n",
       "<style scoped>\n",
       "    .dataframe tbody tr th:only-of-type {\n",
       "        vertical-align: middle;\n",
       "    }\n",
       "\n",
       "    .dataframe tbody tr th {\n",
       "        vertical-align: top;\n",
       "    }\n",
       "\n",
       "    .dataframe thead th {\n",
       "        text-align: right;\n",
       "    }\n",
       "</style>\n",
       "<table border=\"1\" class=\"dataframe\">\n",
       "  <thead>\n",
       "    <tr style=\"text-align: right;\">\n",
       "      <th></th>\n",
       "      <th>user_id</th>\n",
       "      <th>user_name</th>\n",
       "      <th>firs_view</th>\n",
       "      <th>last_view</th>\n",
       "      <th>raiting</th>\n",
       "    </tr>\n",
       "  </thead>\n",
       "  <tbody>\n",
       "  </tbody>\n",
       "</table>\n",
       "</div>"
      ],
      "text/plain": [
       "Empty DataFrame\n",
       "Columns: [user_id, user_name, firs_view, last_view, raiting]\n",
       "Index: []"
      ]
     },
     "execution_count": 38,
     "metadata": {},
     "output_type": "execute_result"
    }
   ],
   "source": [
    "other=players[players[\"user_id\"]!=100]\n",
    "other"
   ]
  },
  {
   "cell_type": "code",
   "execution_count": 39,
   "metadata": {},
   "outputs": [
    {
     "data": {
      "text/html": [
       "<div>\n",
       "<style scoped>\n",
       "    .dataframe tbody tr th:only-of-type {\n",
       "        vertical-align: middle;\n",
       "    }\n",
       "\n",
       "    .dataframe tbody tr th {\n",
       "        vertical-align: top;\n",
       "    }\n",
       "\n",
       "    .dataframe thead th {\n",
       "        text-align: right;\n",
       "    }\n",
       "</style>\n",
       "<table border=\"1\" class=\"dataframe\">\n",
       "  <thead>\n",
       "    <tr style=\"text-align: right;\">\n",
       "      <th></th>\n",
       "      <th>user_id</th>\n",
       "      <th>user_name</th>\n",
       "      <th>firs_view</th>\n",
       "      <th>last_view</th>\n",
       "      <th>raiting</th>\n",
       "    </tr>\n",
       "  </thead>\n",
       "  <tbody>\n",
       "    <tr>\n",
       "      <td>0</td>\n",
       "      <td>100</td>\n",
       "      <td>Covmax</td>\n",
       "      <td>NaN</td>\n",
       "      <td>today</td>\n",
       "      <td>NaN</td>\n",
       "    </tr>\n",
       "  </tbody>\n",
       "</table>\n",
       "</div>"
      ],
      "text/plain": [
       "   user_id user_name  firs_view last_view  raiting\n",
       "0      100    Covmax        NaN     today      NaN"
      ]
     },
     "execution_count": 39,
     "metadata": {},
     "output_type": "execute_result"
    }
   ],
   "source": [
    "other.append(one_row)"
   ]
  },
  {
   "cell_type": "code",
   "execution_count": 45,
   "metadata": {},
   "outputs": [],
   "source": [
    "def update_users_in_database(user_id):\n",
    "    #print(\"tt\")\n",
    "    players=pd.read_csv(\"bases/players.csv\")\n",
    "    one_row=players[players[\"user_id\"]==user_id]\n",
    "    if 0==len(one_row):\n",
    "        one_row=one_row.append({\"user_id\":user_id,\n",
    "                                \"user_name\":\"name\",\n",
    "                                \"first_visit\":datetime.now().strftime(\"%d-%m-%Y %H:%M\"),\n",
    "                                \"last_visit\":datetime.now().strftime(\"%d-%m-%Y %H:%M\"),\n",
    "                                \"raiting\":1500},ignore_index=True)\n",
    "    elif 1==len(one_row):\n",
    "        one_row.loc[0,\"last_visit\"]=datetime.now().strftime(\"%d-%m-%Y %H:%M\")\n",
    "    \n",
    "    others=players[players[\"user_id\"]!=user_id]\n",
    "    players=others.append(one_row)\n",
    "    with open(\"bases/players.csv\",mode='w',encoding=\"utf-8\") as file:\n",
    "        players.to_csv(file,index=False)"
   ]
  },
  {
   "cell_type": "code",
   "execution_count": 46,
   "metadata": {},
   "outputs": [],
   "source": [
    "from func_main import *"
   ]
  },
  {
   "cell_type": "code",
   "execution_count": 53,
   "metadata": {},
   "outputs": [],
   "source": [
    "update_users_in_database(101)"
   ]
  },
  {
   "cell_type": "code",
   "execution_count": 54,
   "metadata": {},
   "outputs": [
    {
     "name": "stdout",
     "output_type": "stream",
     "text": [
      "user_id,user_name,first_visit,last_visit\r\n",
      "101,name,07-04-2020 17:48,07-04-2020 17:48\r\n"
     ]
    }
   ],
   "source": [
    "! cat bases/players.csv"
   ]
  },
  {
   "cell_type": "code",
   "execution_count": 4,
   "metadata": {},
   "outputs": [
    {
     "data": {
      "text/html": [
       "<div>\n",
       "<style scoped>\n",
       "    .dataframe tbody tr th:only-of-type {\n",
       "        vertical-align: middle;\n",
       "    }\n",
       "\n",
       "    .dataframe tbody tr th {\n",
       "        vertical-align: top;\n",
       "    }\n",
       "\n",
       "    .dataframe thead th {\n",
       "        text-align: right;\n",
       "    }\n",
       "</style>\n",
       "<table border=\"1\" class=\"dataframe\">\n",
       "  <thead>\n",
       "    <tr style=\"text-align: right;\">\n",
       "      <th></th>\n",
       "      <th>room_id</th>\n",
       "      <th>winner_id</th>\n",
       "      <th>finish_time</th>\n",
       "      <th>start_time</th>\n",
       "    </tr>\n",
       "  </thead>\n",
       "  <tbody>\n",
       "    <tr>\n",
       "      <td>0</td>\n",
       "      <td>621102</td>\n",
       "      <td>None</td>\n",
       "      <td>07-04-2020 01:03</td>\n",
       "      <td>07-04-2020 01:03</td>\n",
       "    </tr>\n",
       "    <tr>\n",
       "      <td>1</td>\n",
       "      <td>349217</td>\n",
       "      <td>None</td>\n",
       "      <td>07-04-2020 15:52</td>\n",
       "      <td>07-04-2020 15:52</td>\n",
       "    </tr>\n",
       "    <tr>\n",
       "      <td>2</td>\n",
       "      <td>729171</td>\n",
       "      <td>None</td>\n",
       "      <td>07-04-2020 17:01</td>\n",
       "      <td>07-04-2020 17:00</td>\n",
       "    </tr>\n",
       "    <tr>\n",
       "      <td>3</td>\n",
       "      <td>166633</td>\n",
       "      <td>None</td>\n",
       "      <td>07-04-2020 17:02</td>\n",
       "      <td>07-04-2020 17:01</td>\n",
       "    </tr>\n",
       "    <tr>\n",
       "      <td>4</td>\n",
       "      <td>19654</td>\n",
       "      <td>None</td>\n",
       "      <td>07-04-2020 19:46</td>\n",
       "      <td>07-04-2020 19:46</td>\n",
       "    </tr>\n",
       "  </tbody>\n",
       "</table>\n",
       "</div>"
      ],
      "text/plain": [
       "   room_id winner_id       finish_time        start_time\n",
       "0   621102      None  07-04-2020 01:03  07-04-2020 01:03\n",
       "1   349217      None  07-04-2020 15:52  07-04-2020 15:52\n",
       "2   729171      None  07-04-2020 17:01  07-04-2020 17:00\n",
       "3   166633      None  07-04-2020 17:02  07-04-2020 17:01\n",
       "4    19654      None  07-04-2020 19:46  07-04-2020 19:46"
      ]
     },
     "execution_count": 4,
     "metadata": {},
     "output_type": "execute_result"
    }
   ],
   "source": [
    "import pandas as pd\n",
    "games=pd.read_csv(\"bases/games.csv\")\n",
    "games"
   ]
  },
  {
   "cell_type": "code",
   "execution_count": 71,
   "metadata": {
    "scrolled": true
   },
   "outputs": [
    {
     "data": {
      "text/html": [
       "<div>\n",
       "<style scoped>\n",
       "    .dataframe tbody tr th:only-of-type {\n",
       "        vertical-align: middle;\n",
       "    }\n",
       "\n",
       "    .dataframe tbody tr th {\n",
       "        vertical-align: top;\n",
       "    }\n",
       "\n",
       "    .dataframe thead th {\n",
       "        text-align: right;\n",
       "    }\n",
       "</style>\n",
       "<table border=\"1\" class=\"dataframe\">\n",
       "  <thead>\n",
       "    <tr style=\"text-align: right;\">\n",
       "      <th></th>\n",
       "      <th>user_id</th>\n",
       "      <th>user_name</th>\n",
       "      <th>first_visit</th>\n",
       "      <th>last_visit</th>\n",
       "      <th>raiting</th>\n",
       "    </tr>\n",
       "  </thead>\n",
       "  <tbody>\n",
       "    <tr>\n",
       "      <td>0</td>\n",
       "      <td>23583427.0</td>\n",
       "      <td>Иван Юрашку</td>\n",
       "      <td>08-04-2020 08:46</td>\n",
       "      <td>08-04-2020 09:39</td>\n",
       "      <td>1500.0</td>\n",
       "    </tr>\n",
       "    <tr>\n",
       "      <td>1</td>\n",
       "      <td>311078729.0</td>\n",
       "      <td>Максим Ковальков</td>\n",
       "      <td>08-04-2020 13:29</td>\n",
       "      <td>09-04-2020 19:16</td>\n",
       "      <td>1484.5</td>\n",
       "    </tr>\n",
       "  </tbody>\n",
       "</table>\n",
       "</div>"
      ],
      "text/plain": [
       "       user_id         user_name       first_visit        last_visit  raiting\n",
       "0   23583427.0       Иван Юрашку  08-04-2020 08:46  08-04-2020 09:39   1500.0\n",
       "1  311078729.0  Максим Ковальков  08-04-2020 13:29  09-04-2020 19:16   1484.5"
      ]
     },
     "execution_count": 71,
     "metadata": {},
     "output_type": "execute_result"
    }
   ],
   "source": [
    "players=pd.read_csv(\"bases/players.csv\")\n",
    "players"
   ]
  },
  {
   "cell_type": "code",
   "execution_count": 35,
   "metadata": {},
   "outputs": [
    {
     "data": {
      "text/plain": [
       "'       user_id         user_name  raiting\\n1  311078729.0  Максим Ковальков   1500.0\\n0   23583427.0       Иван Юрашку   1500.0'"
      ]
     },
     "execution_count": 35,
     "metadata": {},
     "output_type": "execute_result"
    }
   ],
   "source": [
    "st=str(players.sort_values(\"user_id\",ascending=False)[[\"user_id\",\"user_name\",\"raiting\"]].head(10))\n",
    "st"
   ]
  },
  {
   "cell_type": "code",
   "execution_count": 39,
   "metadata": {},
   "outputs": [
    {
     "data": {
      "text/html": [
       "<div>\n",
       "<style scoped>\n",
       "    .dataframe tbody tr th:only-of-type {\n",
       "        vertical-align: middle;\n",
       "    }\n",
       "\n",
       "    .dataframe tbody tr th {\n",
       "        vertical-align: top;\n",
       "    }\n",
       "\n",
       "    .dataframe thead th {\n",
       "        text-align: right;\n",
       "    }\n",
       "</style>\n",
       "<table border=\"1\" class=\"dataframe\">\n",
       "  <thead>\n",
       "    <tr style=\"text-align: right;\">\n",
       "      <th></th>\n",
       "      <th>user_id</th>\n",
       "      <th>game_id</th>\n",
       "    </tr>\n",
       "  </thead>\n",
       "  <tbody>\n",
       "    <tr>\n",
       "      <td>0</td>\n",
       "      <td>311078729</td>\n",
       "      <td>349217</td>\n",
       "    </tr>\n",
       "    <tr>\n",
       "      <td>1</td>\n",
       "      <td>311078729</td>\n",
       "      <td>166633</td>\n",
       "    </tr>\n",
       "    <tr>\n",
       "      <td>2</td>\n",
       "      <td>311078729</td>\n",
       "      <td>19654</td>\n",
       "    </tr>\n",
       "    <tr>\n",
       "      <td>3</td>\n",
       "      <td>311078729</td>\n",
       "      <td>593086</td>\n",
       "    </tr>\n",
       "    <tr>\n",
       "      <td>4</td>\n",
       "      <td>311078729</td>\n",
       "      <td>10145</td>\n",
       "    </tr>\n",
       "  </tbody>\n",
       "</table>\n",
       "</div>"
      ],
      "text/plain": [
       "     user_id  game_id\n",
       "0  311078729   349217\n",
       "1  311078729   166633\n",
       "2  311078729    19654\n",
       "3  311078729   593086\n",
       "4  311078729    10145"
      ]
     },
     "execution_count": 39,
     "metadata": {},
     "output_type": "execute_result"
    }
   ],
   "source": [
    "records=pd.read_csv(\"bases/records.csv\")\n",
    "records.head(5)"
   ]
  },
  {
   "cell_type": "code",
   "execution_count": 47,
   "metadata": {},
   "outputs": [
    {
     "data": {
      "text/plain": [
       "[349217,\n",
       " 166633,\n",
       " 19654,\n",
       " 593086,\n",
       " 10145,\n",
       " 554615,\n",
       " 234201,\n",
       " 574472,\n",
       " 488243,\n",
       " 977996,\n",
       " 742164,\n",
       " 742164,\n",
       " 20201,\n",
       " 132118,\n",
       " 132118,\n",
       " 722424,\n",
       " 722424,\n",
       " 440893,\n",
       " 448965,\n",
       " 514739,\n",
       " 194682]"
      ]
     },
     "execution_count": 47,
     "metadata": {},
     "output_type": "execute_result"
    }
   ],
   "source": [
    "\n",
    "list(records[\"game_id\"].values)"
   ]
  },
  {
   "cell_type": "code",
   "execution_count": 7,
   "metadata": {},
   "outputs": [
    {
     "data": {
      "text/html": [
       "<div>\n",
       "<style scoped>\n",
       "    .dataframe tbody tr th:only-of-type {\n",
       "        vertical-align: middle;\n",
       "    }\n",
       "\n",
       "    .dataframe tbody tr th {\n",
       "        vertical-align: top;\n",
       "    }\n",
       "\n",
       "    .dataframe thead th {\n",
       "        text-align: right;\n",
       "    }\n",
       "</style>\n",
       "<table border=\"1\" class=\"dataframe\">\n",
       "  <thead>\n",
       "    <tr style=\"text-align: right;\">\n",
       "      <th></th>\n",
       "      <th>user_id1</th>\n",
       "      <th>user_id2</th>\n",
       "    </tr>\n",
       "  </thead>\n",
       "  <tbody>\n",
       "  </tbody>\n",
       "</table>\n",
       "</div>"
      ],
      "text/plain": [
       "Empty DataFrame\n",
       "Columns: [user_id1, user_id2]\n",
       "Index: []"
      ]
     },
     "execution_count": 7,
     "metadata": {},
     "output_type": "execute_result"
    }
   ],
   "source": [
    "kontakts=pd.read_csv(\"bases/kontakts.csv\")\n",
    "kontakts"
   ]
  },
  {
   "cell_type": "code",
   "execution_count": 17,
   "metadata": {},
   "outputs": [
    {
     "data": {
      "text/plain": [
       "[349217, 166633, 19654]"
      ]
     },
     "execution_count": 17,
     "metadata": {},
     "output_type": "execute_result"
    }
   ],
   "source": [
    "l=records[records[\"user_id\"]==311078729][\"game_id\"].drop_duplicates().to_list()\n",
    "l"
   ]
  },
  {
   "cell_type": "code",
   "execution_count": 18,
   "metadata": {},
   "outputs": [
    {
     "data": {
      "text/plain": [
       "'Максим Ковальков'"
      ]
     },
     "execution_count": 18,
     "metadata": {},
     "output_type": "execute_result"
    }
   ],
   "source": [
    "players[players[\"user_id\"]==311078729][\"user_name\"].to_list()[0]"
   ]
  },
  {
   "cell_type": "code",
   "execution_count": 19,
   "metadata": {},
   "outputs": [
    {
     "data": {
      "text/plain": [
       "[1, 3]"
      ]
     },
     "execution_count": 19,
     "metadata": {},
     "output_type": "execute_result"
    }
   ],
   "source": [
    "l=[1,2,3]\n",
    "l.remove(2)\n",
    "l"
   ]
  },
  {
   "cell_type": "code",
   "execution_count": 20,
   "metadata": {},
   "outputs": [
    {
     "data": {
      "text/plain": [
       "'Какие команды Вы можете выполнить? Ответ на этот вопрос зависит от стадии игры, в которой Вы находитесь.\\n\\n1. Если Вы не играете:\\n1.1. generate [num]= сгенерировать новую комнату на num игроков (по умолчанию num=3).\\n1.2. connect [room_id]= войти в уже существующую комнату с кодом room_id. Если ввести команду без параметра, то Вы присоединитесь к случайной партии.\\n\\n2. Если Вы ожидаете загрузки игроков в комнату.\\n2.1. call user_id= позвать игрока из своих контактов в партию.\\n2.2. start= досрочно начать игру с не до конца заполненной комнатой (не рекомендуем делать это, быть может, что кто-то из Ваших соседей по комнате хочет сыграть партию именно с конкретным числом игроков или ждет друга).\\n\\n3. Если Вы находитесь в стадии высадки (нужное число игроков набралось, или кто-то набрал start).\\n3.1. coordinate [x y]= ввести координаты Вашего начального положения в игре.\\n\\n4. Все игроки высадились и началась основная стадия игры.\\n4.1. go l[eft]/r[ight]/u[p]/d[own]/t[eleporte]= пойти влево/вправо/вверх/вниз/телепортироваться соответственно. Стоит отметить, что не всякий путь свободен, если в соответствующем направлении находится стена, то оно закрыто для Вас. Телепортироваться можно только в случае, если Вы находитесь на телепорте (d). Подробнее о классах полей лабиринта см. info cletka.\\n4.2. ruin l[eft]/r[ight]/u[p]/d[own]= разрушить стену слева/справа/сверху/снизу. На взрыв стены тратится одна граната. В начале игры у каждого участника имеется 2 гранаты, пополнить их запас можно в арсенале(a). Не каждая стена может быть взорвана, так, например, граничные стены лабиринта-монолитны. Взрыв не ранит игроков.\\n4.3. bang l[eft]/r[ight]/u[p]/d[own]= выстрелить влево/вправо/вверх/вниз. На выстрел тратится одна пуля. В начальный момент каждый игрок имеет 1 пулю. Выстрел не проходит сквозь стены. Если траектория стрельбы проходит через клетку с игроками, то все они, за исключением стрелявшего, получают ранение, а пуля останавливается. Игрок умирает, если в него попали два раза. Трупы игроков не останавливают движение пуль. Следует отметить, что выстрел из арсенала ранит стрелявшего.\\n4.4. get= Взять сокровище. Сокровище является ключом от лабиринта, именно найдя его Вы сможете открыть врата выхода. Если Вы наступите на клетку с сокровищем, то Вам будет сообщено об этом. Взять сокровище может только полностью здоровый игрок.\\n4.5. put= Выложить сокровище. Следует отметить, что при ранении игрока с сокровищем он теряет его. Внимание!!! данная команда не отнимает у Вас хода, после выкладывания сокровища Вы можете продолжить игру.\\n4.6. exit= Выйти из игры.\\n\\n5. Партия закончилась и Вам понравилось играть с кем-либо из своих противников.\\n5.1. add user_id= добавить пользователя с соответствующим id к себе в контакты. Теперь Вы сможете позвать в партию своих знакомых, не выходя из партии.\\n\\n6. В любой момент Вы можете Вызвать info.'"
      ]
     },
     "execution_count": 20,
     "metadata": {},
     "output_type": "execute_result"
    }
   ],
   "source": [
    "f = open('info_text.txt')\n",
    "st=f.read()\n",
    "st"
   ]
  },
  {
   "cell_type": "code",
   "execution_count": 37,
   "metadata": {},
   "outputs": [
    {
     "data": {
      "text/plain": [
       "[1, 2, 3, 4, 5, 6]"
      ]
     },
     "execution_count": 37,
     "metadata": {},
     "output_type": "execute_result"
    }
   ],
   "source": [
    "l=[1,2,3]\n",
    "r=[4,5,6]\n",
    "res=[*l,*r]\n",
    "res"
   ]
  },
  {
   "cell_type": "code",
   "execution_count": 48,
   "metadata": {},
   "outputs": [
    {
     "data": {
      "text/plain": [
       "3.0"
      ]
     },
     "execution_count": 48,
     "metadata": {},
     "output_type": "execute_result"
    }
   ],
   "source": [
    "pow(81,0.25)"
   ]
  },
  {
   "cell_type": "code",
   "execution_count": 57,
   "metadata": {},
   "outputs": [
    {
     "data": {
      "text/plain": [
       "[6, 7, 8, 9, 10]"
      ]
     },
     "execution_count": 57,
     "metadata": {},
     "output_type": "execute_result"
    }
   ],
   "source": [
    "l=[1,2,3,4,5,6,7,8,9,10]\n",
    "l[5:10:]"
   ]
  },
  {
   "cell_type": "code",
   "execution_count": 68,
   "metadata": {},
   "outputs": [
    {
     "data": {
      "text/plain": [
       "['1', '0']"
      ]
     },
     "execution_count": 68,
     "metadata": {},
     "output_type": "execute_result"
    }
   ],
   "source": [
    "s=\"next     [1,0]\"\n",
    "l=s.split()[1][1:-1].split(',')\n",
    "l\n",
    "\n"
   ]
  },
  {
   "cell_type": "code",
   "execution_count": 74,
   "metadata": {},
   "outputs": [
    {
     "ename": "ApiError",
     "evalue": "[27] Group authorization failed: method is unavailable with group auth.",
     "output_type": "error",
     "traceback": [
      "\u001b[0;31m---------------------------------------------------------------------------\u001b[0m",
      "\u001b[0;31mApiError\u001b[0m                                  Traceback (most recent call last)",
      "\u001b[0;32m<ipython-input-74-3b0665f1a7c9>\u001b[0m in \u001b[0;36m<module>\u001b[0;34m\u001b[0m\n\u001b[1;32m     24\u001b[0m \u001b[0mlongpoll\u001b[0m \u001b[0;34m=\u001b[0m \u001b[0mVkLongPoll\u001b[0m\u001b[0;34m(\u001b[0m\u001b[0mvk\u001b[0m\u001b[0;34m)\u001b[0m\u001b[0;34m\u001b[0m\u001b[0;34m\u001b[0m\u001b[0m\n\u001b[1;32m     25\u001b[0m \u001b[0;34m\u001b[0m\u001b[0m\n\u001b[0;32m---> 26\u001b[0;31m \u001b[0mfriends\u001b[0m\u001b[0;34m=\u001b[0m\u001b[0mvk\u001b[0m\u001b[0;34m.\u001b[0m\u001b[0mmethod\u001b[0m\u001b[0;34m(\u001b[0m\u001b[0;34m\"friends.get\"\u001b[0m\u001b[0;34m,\u001b[0m\u001b[0;34m{\u001b[0m\u001b[0;34m'user_ids'\u001b[0m\u001b[0;34m:\u001b[0m\u001b[0;36m311078729\u001b[0m\u001b[0;34m,\u001b[0m\u001b[0;34m\"order\"\u001b[0m\u001b[0;34m:\u001b[0m\u001b[0;34m\"random\"\u001b[0m\u001b[0;34m}\u001b[0m\u001b[0;34m)\u001b[0m\u001b[0;34m\u001b[0m\u001b[0;34m\u001b[0m\u001b[0m\n\u001b[0m",
      "\u001b[0;32m~/.conda/envs/sphere-py37/lib/python3.7/site-packages/vk_api/vk_api.py\u001b[0m in \u001b[0;36mmethod\u001b[0;34m(self, method, values, captcha_sid, captcha_key, raw)\u001b[0m\n\u001b[1;32m    644\u001b[0m                     \u001b[0;32mreturn\u001b[0m \u001b[0mresponse\u001b[0m\u001b[0;34m\u001b[0m\u001b[0;34m\u001b[0m\u001b[0m\n\u001b[1;32m    645\u001b[0m \u001b[0;34m\u001b[0m\u001b[0m\n\u001b[0;32m--> 646\u001b[0;31m             \u001b[0;32mraise\u001b[0m \u001b[0merror\u001b[0m\u001b[0;34m\u001b[0m\u001b[0;34m\u001b[0m\u001b[0m\n\u001b[0m\u001b[1;32m    647\u001b[0m \u001b[0;34m\u001b[0m\u001b[0m\n\u001b[1;32m    648\u001b[0m         \u001b[0;32mreturn\u001b[0m \u001b[0mresponse\u001b[0m \u001b[0;32mif\u001b[0m \u001b[0mraw\u001b[0m \u001b[0;32melse\u001b[0m \u001b[0mresponse\u001b[0m\u001b[0;34m[\u001b[0m\u001b[0;34m'response'\u001b[0m\u001b[0;34m]\u001b[0m\u001b[0;34m\u001b[0m\u001b[0;34m\u001b[0m\u001b[0m\n",
      "\u001b[0;31mApiError\u001b[0m: [27] Group authorization failed: method is unavailable with group auth."
     ]
    }
   ],
   "source": [
    "import vk_api\n",
    "import random\n",
    "import requests\n",
    "import Gen\n",
    "import sys\n",
    "import draw_labirint\n",
    "import send_image\n",
    "import requests\n",
    "import bs4 as bs4\n",
    "import urllib\n",
    "#import urllib.reques\n",
    "#import event.user_id\n",
    "import get_name_and_icon\n",
    "from func_main import *\n",
    "from vk_api.longpoll import VkLongPoll, VkEventType\n",
    "from vk_api.keyboard import VkKeyboard, VkKeyboardColor\n",
    "from buttons import *\n",
    "import random\n",
    "import numpy as np\n",
    "session = requests.Session()\n",
    "token=\"5e687395dff870a6f6c9b95bc6e50c9651c98367439c4ecaffdf16fc53e7e57b0bd0bb276b335d5b88ade\"\n",
    "vk = vk_api.VkApi(token=token, scope='messages')\n",
    "#vk_session.auth(token_only=True)\n",
    "longpoll = VkLongPoll(vk)\n",
    "\n",
    "friends=vk.method(\"friends.get\",{'user_ids':311078729,\"order\":\"random\"})"
   ]
  },
  {
   "cell_type": "code",
   "execution_count": 21,
   "metadata": {},
   "outputs": [],
   "source": [
    "import func_main"
   ]
  },
  {
   "cell_type": "code",
   "execution_count": 22,
   "metadata": {},
   "outputs": [],
   "source": [
    "tutorial_room=func_main.Room(666, 1)"
   ]
  },
  {
   "cell_type": "code",
   "execution_count": 15,
   "metadata": {},
   "outputs": [
    {
     "name": "stdout",
     "output_type": "stream",
     "text": [
      "Collecting Pillow\n",
      "  Downloading Pillow-7.1.2-cp37-cp37m-manylinux1_x86_64.whl (2.1 MB)\n",
      "\u001b[K     |████████████████████████████████| 2.1 MB 933 kB/s eta 0:00:01\n",
      "\u001b[?25hInstalling collected packages: Pillow\n",
      "Successfully installed Pillow-7.1.2\n"
     ]
    }
   ],
   "source": [
    "!pip install Pillow"
   ]
  },
  {
   "cell_type": "code",
   "execution_count": null,
   "metadata": {},
   "outputs": [],
   "source": []
  },
  {
   "cell_type": "code",
   "execution_count": null,
   "metadata": {},
   "outputs": [],
   "source": []
  }
 ],
 "metadata": {
  "kernelspec": {
   "display_name": "Python 3",
   "language": "python",
   "name": "python3"
  },
  "language_info": {
   "codemirror_mode": {
    "name": "ipython",
    "version": 3
   },
   "file_extension": ".py",
   "mimetype": "text/x-python",
   "name": "python",
   "nbconvert_exporter": "python",
   "pygments_lexer": "ipython3",
   "version": "3.7.7"
  }
 },
 "nbformat": 4,
 "nbformat_minor": 2
}
